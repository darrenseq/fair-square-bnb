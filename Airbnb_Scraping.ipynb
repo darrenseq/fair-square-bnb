{
 "cells": [
  {
   "cell_type": "code",
   "execution_count": 13,
   "metadata": {},
   "outputs": [],
   "source": [
    "import time\n",
    "from selenium import webdriver\n",
    "from selenium.webdriver.common.by import By"
   ]
  },
  {
   "cell_type": "code",
   "execution_count": 14,
   "metadata": {},
   "outputs": [
    {
     "name": "stdout",
     "output_type": "stream",
     "text": [
      "https://www.airbnb.com/s/New-York--NY--United-States/homes?items_offset=0\n"
     ]
    },
    {
     "name": "stderr",
     "output_type": "stream",
     "text": [
      "/opt/anaconda3/lib/python3.7/site-packages/ipykernel_launcher.py:13: DeprecationWarning: executable_path has been deprecated, please pass in a Service object\n",
      "  del sys.path[0]\n"
     ]
    },
    {
     "name": "stdout",
     "output_type": "stream",
     "text": [
      "https://www.airbnb.com/s/New-York--NY--United-States/homes?items_offset=20\n"
     ]
    }
   ],
   "source": [
    "main_link = 'https://www.airbnb.com/s/New-York--NY--United-States/homes'\n",
    "items = '?items_offset='\n",
    "listings = []\n",
    "types_list = []\n",
    "ratings_list = []\n",
    "price_list = []\n",
    "url_list = []\n",
    "for i in range(0, 40, 20):\n",
    "    try:\n",
    "        link = main_link + items + str(i)\n",
    "        print(link)\n",
    "        driver = None\n",
    "        driver = webdriver.Chrome('/usr/local/bin/chromedriver')\n",
    "        driver.get(link)\n",
    "        time.sleep(5)\n",
    "        listing_urls = driver.find_elements(By.CLASS_NAME, '_mm360j')\n",
    "        curr_listings = driver.find_elements(By.CLASS_NAME, '_1whrsux9')\n",
    "        type_list = driver.find_elements(By.CLASS_NAME, '_3c0zz1')\n",
    "        star_list = driver.find_elements(By.CLASS_NAME, '_10fy1f8')\n",
    "        cost_list = driver.find_elements(By.CLASS_NAME, '_tyxjp1')\n",
    "        if len(curr_listings) > 0 and len(type_list) > 0:\n",
    "            listings += [place.text for place in curr_listings]\n",
    "            types_list += [types.text for types in type_list]\n",
    "            ratings_list += [rating.text for rating in star_list]\n",
    "            price_list += [price.text for price in cost_list]\n",
    "            url_list += [url.get_attribute('href') for url in listing_urls]\n",
    "    except Exception as e:\n",
    "        pass"
   ]
  },
  {
   "cell_type": "code",
   "execution_count": 26,
   "metadata": {},
   "outputs": [
    {
     "name": "stderr",
     "output_type": "stream",
     "text": [
      "/opt/anaconda3/lib/python3.7/site-packages/ipykernel_launcher.py:4: DeprecationWarning: executable_path has been deprecated, please pass in a Service object\n",
      "  after removing the cwd from sys.path.\n"
     ]
    },
    {
     "data": {
      "text/plain": [
       "[{'name': \"Billie's holiday (includes maid & laundry)\",\n",
       "  'rating': '',\n",
       "  'reviews': ['I had an awesome time staying at Josh’s and they are both so attentive and helpful for anything you may need. Great area/ location. Would definitely come back!']},\n",
       " {'name': \"Hell's Kitchen Enclave: a Diamond in the Rough.\",\n",
       "  'rating': '4.59',\n",
       "  'reviews': [\"Michael's place was great! Great value, exactly as advertised, comfortable, had everything we needed, and good location. I would definitely stay here again!\",\n",
       "   'Easy check in, great location, super close to central park and times square! Well equipped with everything you could want for a cozy getaway. Highly recommended! Would love to stay again.',\n",
       "   'An excellent location (Near the harbor, good restaurants, and Times Square). Micheal’s place is just as advertised. We were thankful for the cleanliness of the apartment as well as the neighborhood. We felt safe at all times. Just a heads up if you are over 60 and don’t do well on narrow stairs or step ups inside apartment. If not an issue, then you can’t beat it!',\n",
       "   \"Great location, easily walkable to cafe's, bar, restaurants. Metro and bus right around the corner. Quiet street, and friendly host.\",\n",
       "   'This apartment is very close to all the attractions and great restaurants. It was smaller than I expected and the bed is a full/double, if you don’t mind that, then it is a great stay with a 15-20 minute walk to Central Park.',\n",
       "   'My lodging experience at Michael’s place was fantastic; a home away from home. I would definitely return. I felt comfortable, relaxed and safe. The neighborhood is in a great area of town; conveniently accessible to public transportation. Everything you may need, such as restaurants, bodegas, groceries and pharmacies are no more than a few blocks away. Overall, a great place to stay, and as a former Manhattanite, I give it my seal of approval!']},\n",
       " {'name': 'DOUBLE SHARED BATHROOM',\n",
       "  'rating': '5.0',\n",
       "  'reviews': ['Show more',\n",
       "   'I enjoyed my stay here. Great location, and the staff were always communicative and helpful',\n",
       "   'Show more']},\n",
       " {'name': 'Studio located in Upper East Side',\n",
       "  'rating': '',\n",
       "  'reviews': ['Show more', 'Great place to stay']},\n",
       " {'name': 'Midtown West Hotel ( Economy Single)',\n",
       "  'rating': '4.89',\n",
       "  'reviews': ['Do yourself a favor and stay at Joe’s place- it’s soooo close to the train station- tons of great restaurants close! And they are so very nice- I had a great experience!!',\n",
       "   'Great location and good for a quick stay',\n",
       "   'Great location (one block from Penn Station) and great price! Hosts were more than accommodating and extremely nice. Definitely worth the money!',\n",
       "   'Definitely a best price and location in the area, the host was polite and nice and kind couple. Had a great time staying in the hotel and NYC.',\n",
       "   'Expect great service and an affordable room close to time square',\n",
       "   'Very well priced and friendly staff.']},\n",
       " {'name': 'Charming Astoria studio on quiet tree-lined street',\n",
       "  'rating': '5.0',\n",
       "  'reviews': ['Show more',\n",
       "   'Show more',\n",
       "   'Cute place in great neighborhood! Thank you!',\n",
       "   'Show more']},\n",
       " {'name': 'Flatbush Hideaway - Quiet and close to subway!',\n",
       "  'rating': '4.89',\n",
       "  'reviews': ['Always my go to stay!',\n",
       "   'Just as all the other reviews said.',\n",
       "   'Very Private. Roomy for a nyc apartment',\n",
       "   'Show more',\n",
       "   'Show more',\n",
       "   'Enjoyed my stay']},\n",
       " {'name': 'DSB 8 · DOUBLE SHARED BATHROOM',\n",
       "  'rating': '',\n",
       "  'reviews': ['Great spot, shared bathrooms were always open',\n",
       "   'Excellent location, good service and cosey room. Felt like home there and was treated like family.']},\n",
       " {'name': 'Nini’s Cozy Room',\n",
       "  'rating': '4.91',\n",
       "  'reviews': ['Near Central Park and metro subway.',\n",
       "   'great location and easy to commute',\n",
       "   'Great stay. Highly recommend.',\n",
       "   'Raquel was an excellent host and we had a great time! We had a late check-in and were out for most of our stay but never had a problem coming and going. Thank you!',\n",
       "   'Great location, perfect room for a quick trip to NYC. Raquel was very nice & accommodating, I’ll definitely be back. Raquel, fue un placer conocerte, gracia por todo!!',\n",
       "   'Show more']},\n",
       " {'name': \"Murray Hill 'Light & Sweet'\",\n",
       "  'rating': '5.0',\n",
       "  'reviews': ['Courteous and Helpful',\n",
       "   'Great value and location. Perfect for a trip to New York and easy to get to just about anywhere in the city',\n",
       "   'Chris is a great host, he let us an early check in which was so convenient. 10/10 for location. Subway just 2-3 blocks away.',\n",
       "   'Great spot! Chris was super easy to communicate with, too. Would definitely stay again',\n",
       "   'Show more',\n",
       "   'C was a very responsive and conscientious host. Nice place, great location, and great value. Would definitely book again!!']}]"
      ]
     },
     "execution_count": 26,
     "metadata": {},
     "output_type": "execute_result"
    }
   ],
   "source": [
    "listing_review_ratings = []\n",
    "for url in url_list[:10]:\n",
    "    driver = None\n",
    "    driver = webdriver.Chrome('/usr/local/bin/chromedriver')\n",
    "    driver.get(url)\n",
    "    time.sleep(3)\n",
    "    reviews = driver.find_elements(By.CLASS_NAME, '_162hp8xh')\n",
    "    rating = driver.find_element(By.CLASS_NAME, '_1ne5r4rt')\n",
    "    name = driver.find_element(By.CLASS_NAME, '_fecoyn4')\n",
    "    listing_data = {\n",
    "        'name': name.text,\n",
    "        'rating': rating.text,\n",
    "        'reviews': [r.text.split('\\n')[-1] for r in reviews]\n",
    "    }\n",
    "    listing_review_ratings.append(listing_data)\n",
    "listing_review_ratings"
   ]
  },
  {
   "cell_type": "code",
   "execution_count": null,
   "metadata": {},
   "outputs": [],
   "source": []
  }
 ],
 "metadata": {
  "kernelspec": {
   "display_name": "Python 3",
   "language": "python",
   "name": "python3"
  },
  "language_info": {
   "codemirror_mode": {
    "name": "ipython",
    "version": 3
   },
   "file_extension": ".py",
   "mimetype": "text/x-python",
   "name": "python",
   "nbconvert_exporter": "python",
   "pygments_lexer": "ipython3",
   "version": "3.7.6"
  }
 },
 "nbformat": 4,
 "nbformat_minor": 4
}
