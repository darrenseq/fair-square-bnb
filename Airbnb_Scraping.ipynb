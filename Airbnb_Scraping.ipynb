{
 "cells": [
  {
   "cell_type": "code",
   "execution_count": 8,
   "metadata": {},
   "outputs": [],
   "source": [
    "import time\n",
    "from selenium import webdriver\n",
    "from selenium.webdriver.common.by import By"
   ]
  },
  {
   "cell_type": "code",
   "execution_count": 10,
   "metadata": {},
   "outputs": [
    {
     "name": "stdout",
     "output_type": "stream",
     "text": [
      "https://www.airbnb.com/s/New-York--NY--United-States/homes?items_offset=0\n"
     ]
    },
    {
     "name": "stderr",
     "output_type": "stream",
     "text": [
      "/opt/anaconda3/lib/python3.7/site-packages/ipykernel_launcher.py:12: DeprecationWarning: executable_path has been deprecated, please pass in a Service object\n",
      "  if sys.path[0] == '':\n"
     ]
    },
    {
     "name": "stdout",
     "output_type": "stream",
     "text": [
      "https://www.airbnb.com/s/New-York--NY--United-States/homes?items_offset=20\n",
      "https://www.airbnb.com/s/New-York--NY--United-States/homes?items_offset=40\n",
      "[\"Hell's Kitchen Enclave: a Diamond in the Rough.\", 'DOUBLE SHARED BATHROOM', 'Midtown West Hotel NYC', 'DOUBLE SHARED BATHROOM', 'Charming Astoria studio on quiet tree-lined street', 'SSB 9 - SINGLE SHARED BATHROOM', 'Bnb(30 day minimum)', 'Studio located in Upper East Side', '1 bedroom apt, 1 subway stop from Midtown', 'CONTACT BEFORE YOU BOOK/near Times Square', 'Sunny Room Brand New Apartment Close to Midtown', '240Nest #4 with view on the Empire State Building', \"Murray Hill 'Light & Sweet'\", 'Charming Studio in heart of the Upper East Side', 'Studio Loft: Cleaning CDC guidelines implemented', 'C☆zy Studio in Union Square Park', 'Nini’s Cozy Room', '<Compact room room>SofaBed + loft bed in Manhattan', 'GREAT Bright Manhtattan Apartment!', 'Nice, clean, cozy 1 bed apt in Kensington Brooklyn', '<Compact room room>SofaBed + loft bed in Manhattan', 'DOUBLE SHARED BATHROOM', 'Midtown West Hotel ( Economy Single)', 'SINGLE SHARED BATHROOM', 'Midtown West Hotel NYC (Single)', 'Cozy Studio Apt. in the Heart of Chelsea', 'Upper West Studio with private rooftop terrace', 'Central Park Apartments Furnished Rental 20', 'Spacious 2 Bedroom Steps from Times Sq.', 'Near Gramercy Park/ Private Entrance', '1 Bedroom apartment/ Please read \"Important Note\"', 'Studio in the LES', 'One Bed Room in Financial District', 'West Village-1 large bedroom w/ fireplace-Quiet St', 'Cozy room in Upper Manhattan', 'Private Bedroom, Entrance and Bathroom', \"Cozy, quiet room in artist's apartment\", 'Best Quiet Apartment / Union Square', 'Central Park home away from home', '1 Bedroom in convenient Chinatown / Little Italy!', '138 Bowery, Vibrant Queen Room', 'Artistic Sunny Loft, Kitchen, AC, WiFi', 'DSB 8 · DOUBLE SHARED BATHROOM', 'DSB 9. DOUBLE SHARED BATHROOM.', 'Midtown West Hotel NYC (Single)', 'Air B and B at the Grand Old Mansion', \"Lovely Apartment 1bd Clean & Quiet. You'll love it\", 'Amazing Spacious Room', 'Location is Everything. And Quiet Too!', 'Economy Pied-à-terre', \"Bright, Modern, Cozy Room in Brooklyn Artist's Apt\", 'Lovely Micro Studio in Murray Hill NYC', 'STUDIO WITH MASSIVE BALCONY AND MANHATTAN VIEW', \"Charming, sunny room in artist's apartment\", 'Great apartment (midtown area )', 'Very private place mini studio', 'Charming studio apartment in Chelsea', 'Private Full Bed in Chinatown NYC', 'Home Away from Home-Room in Midtown', '1 min walk to Times Square,Share Apt, Amazing View'] ['2 guests · Studio · 1 bed · 1 bath', 'Wifi · Kitchen · Air conditioning · Heating', '2 guests · 1 bedroom · 1 bed · 4 shared baths', 'Wifi · Air conditioning · Heating', '1 guest · 1 bedroom · 1 bed · 1 private bath', 'Wifi · Air conditioning · Heating', '2 guests · 1 bedroom · 1 bed · 4 shared baths', 'Wifi · Air conditioning · Heating', '2 guests · Studio · 1 bed · 1 bath', 'Wifi · Kitchen · Air conditioning · Heating', '1 guest · 1 bedroom · 1 bed · 4 shared baths', 'Wifi · Air conditioning · Heating', '3 guests · 2 bedrooms · 2 beds · 1 bath', 'Wifi · Kitchen · Air conditioning · Heating', '3 guests · Studio · 1 bed · 1 bath', 'Wifi · Kitchen · Air conditioning · Heating', '4 guests · 1 bedroom · 1 bed · 1 bath', 'Wifi · Kitchen · Air conditioning · Heating', '1 guest · 1 bedroom · 1 bed · 1 shared bath', 'Wifi · Kitchen · Air conditioning · Heating', '2 guests · 1 bedroom · 1 bed · 1 shared bath', 'Wifi · Heating', '3 guests · 1 bedroom · 2 beds · 1 bath', 'Wifi · Kitchen · Air conditioning · Heating', '2 guests · 1 bedroom · 1 bed · 1 bath', 'Wifi · Kitchen · Air conditioning · Heating', '2 guests · Studio · 1 bed · 1 bath', 'Wifi · Kitchen · Air conditioning · Heating', '2 guests · Studio · 1 bed · 1 bath', 'Wifi · Kitchen · Air conditioning · Heating', '2 guests · Studio · 2 beds · 1 bath', 'Wifi · Kitchen · Air conditioning · Heating', '2 guests · 1 bedroom · 1 bed · 1 shared bath', 'Wifi', '2 guests · Studio · 2 beds · 1 shared bath', 'Wifi · Heating', '3 guests · 1 bedroom · 1 bed · 1 bath', 'Wifi · Kitchen · Air conditioning · Heating', '4 guests · 1 bedroom · 2 beds · 1 bath', 'Wifi · Kitchen · Air conditioning · Heating', '2 guests · Studio · 2 beds · 1 shared bath', 'Wifi · Heating', '2 guests · 1 bedroom · 1 bed · 4 shared baths', 'Wifi · Air conditioning · Heating', '1 guest · 1 bedroom · 1 bed · 1 private bath', 'Wifi · Air conditioning · Heating', '1 guest · 1 bedroom · 1 bed · 4 shared baths', 'Wifi · Air conditioning · Heating', '1 guest · 1 bedroom · 1 bed · 1 private bath', 'Wifi · Air conditioning · Heating', '2 guests · Studio · 1 bed · 1 bath', 'Wifi · Kitchen · Air conditioning · Heating', '2 guests · Studio · 1 bed · 1 bath', 'Wifi · Kitchen · Air conditioning · Heating', '2 guests · Studio · 1 bed · 1 bath', 'Wifi · Kitchen · Air conditioning · Heating', '5 guests · 2 bedrooms · 2 beds · 1 bath', 'Wifi · Kitchen · Air conditioning · Heating', '2 guests · 1 bedroom · 1 bed · 1 shared bath', 'Wifi · Air conditioning · Heating', '2 guests · 1 bedroom · 1 bed · 1 bath', 'Wifi · Kitchen · Air conditioning · Heating', '2 guests · 1 bedroom · 1 bed · 1 bath', 'Wifi · Kitchen · Air conditioning · Heating', '2 guests · 1 bedroom · 0 beds · 1 bath', 'Wifi · Kitchen · Air conditioning · Heating', '2 guests · 1 bedroom · 1 bed · 1 bath', 'Wifi · Kitchen · Air conditioning · Heating', '2 guests · 1 bedroom · 1 bed · 2 shared baths', 'Wifi · Kitchen · Air conditioning · Heating', '2 guests · 1 bedroom · 2 beds · 1 private bath', 'Wifi · Air conditioning · Heating', '1 guest · 1 bedroom · 1 bed · 1 shared bath', 'Wifi · Kitchen · Heating', '3 guests · Studio · 2 beds · 1 bath', 'Wifi · Kitchen · Air conditioning · Heating', '4 guests · 1 bedroom · 1 bed · 1 bath', 'Wifi · Kitchen · Air conditioning · Heating', '2 guests · 1 bedroom · 2 beds · 1 bath', 'Wifi · Kitchen · Air conditioning · Heating', '2 guests · Studio · 1 bed · 1 bath', 'Wifi · Kitchen · Air conditioning · Heating', '4 guests · 1 bedroom · 2 beds · 1 bath', 'Wifi · Kitchen · Air conditioning', '2 guests · 1 bedroom · 1 bed · 4 shared baths', 'Wifi · Air conditioning', '2 guests · 1 bedroom · 1 bed · 4 shared baths', 'Wifi · Air conditioning · Heating', '1 guest · 1 bedroom · 1 bed · 1 private bath', 'Wifi · Air conditioning · Heating', '2 guests · Studio · 1 bed · 1 bath', 'Wifi · Air conditioning · Heating', '3 guests · 1 bedroom · 2 beds · 1 bath', 'Wifi · Kitchen · Air conditioning · Heating', '1 guest · 1 bedroom · 1 bed · 1 shared bath', 'Wifi · Heating', '2 guests · 1 bedroom · 1 bed · 1 shared bath', 'Wifi · Kitchen · Air conditioning · Heating', '2 guests · Studio · 1 bed · 1 bath', 'Wifi · Air conditioning · Heating', '1 guest · 1 bedroom · 1 bed · 1 shared bath', 'Wifi · Kitchen · Air conditioning · Heating', '2 guests · Studio · 1 bed · 1 bath', 'Wifi · Kitchen · Air conditioning · Heating', '2 guests · 1 bedroom · 1 bed · 1 bath', 'Wifi · Kitchen · Air conditioning · Heating', '1 guest · 1 bedroom · 1 bed · 1 shared bath', 'Wifi · Kitchen · Heating', '3 guests · Studio · 1 bed · 1 bath', 'Wifi · Kitchen · Air conditioning · Heating', '2 guests · Studio · 1 bed · 1 bath', 'Wifi · Kitchen · Air conditioning · Heating', '2 guests · Studio · 1 bed · 1 bath', 'Wifi · Kitchen · Air conditioning · Heating', '1 guest · 1 bedroom · 1 bed · 1 shared bath', 'Wifi · Air conditioning · Heating', '2 guests · 1 bedroom · 1 bed · 1.5 shared baths', 'Wifi · Air conditioning · Heating', '2 guests · 1 bedroom · 1 bed · 1 shared bath', 'Wifi · Kitchen · Air conditioning · Heating']\n"
     ]
    }
   ],
   "source": [
    "main_link = 'https://www.airbnb.com/s/New-York--NY--United-States/homes'\n",
    "items = '?items_offset='\n",
    "listings = []\n",
    "types_list = []\n",
    "ratings_list = []\n",
    "price_list = []\n",
    "for i in range(0, 6000, 20):\n",
    "    try:\n",
    "        link = main_link + items + str(i)\n",
    "        print(link)\n",
    "        driver = None\n",
    "        driver = webdriver.Chrome('/usr/local/bin/chromedriver')\n",
    "        driver.get(link)\n",
    "        time.sleep(5)\n",
    "        curr_listings = driver.find_elements(By.CLASS_NAME, '_1whrsux9')\n",
    "        type_list = driver.find_elements(By.CLASS_NAME, '_3c0zz1')\n",
    "        star_list = driver.find_elements(By.CLASS_NAME, '_10fy1f8')\n",
    "        cost_list = driver.find_elements(By.CLASS_NAME, '_tyxjp1')\n",
    "        if len(curr_listings) > 0 and len(type_list) > 0:\n",
    "            listings += [place.text for place in curr_listings]\n",
    "            types_list += [types.text for types in type_list]\n",
    "            ratings_list += [rating.text for rating in star_list]\n",
    "            price_list += [price.text for price in cost_list]\n",
    "    except Exception as e:\n",
    "        pass\n",
    "print(listings, types_list)"
   ]
  },
  {
   "cell_type": "code",
   "execution_count": 11,
   "metadata": {},
   "outputs": [
    {
     "name": "stdout",
     "output_type": "stream",
     "text": [
      "['$68', '$55', '$75', '$61', '$50', '$55', '$45', '$100', '$106', '$39', '$56', '$99', '$126', '$102', '$99', '$87', '$55', '$85', '$99', '$45', '$85', '$63', '$75', '$55', '$85', '$83', '$121', '$57', '$121', '$69', '$130', '$110', '$99', '$179', '$59', '$62', '$43', '$91', '$100', '$125', '$135', '$116', '$61', '$61', '$88', '$86', '$62', '$49', '$47', '$89', '$58', '$85', '$95', '$50', '$100', '$99', '$170', '$72', '$63', '$148'] ['4.59', '5.0', '4.67', '5.0', '4.82', '5.0', '4.43', '5.0', '4.88', '5.0', '4.68', '4.91', '4.75', '5.0', '4.75', '4.29', '4.88', '4.0', '4.82', '4.80', '4.69', '5.0', '4.48', '4.56', '4.95', '4.68', '5.0', '5.0', '4.79', '4.78', '4.72', '4.68', '5.0', '4.89', '4.85', '4.75', '4.74', '4.71', '4.84', '5.0', '4.94', '4.46', '4.88', '4.82', '4.60', '4.86', '4.78', '4.56']\n"
     ]
    }
   ],
   "source": [
    "print(price_list, ratings_list)"
   ]
  },
  {
   "cell_type": "code",
   "execution_count": null,
   "metadata": {},
   "outputs": [],
   "source": []
  }
 ],
 "metadata": {
  "kernelspec": {
   "display_name": "Python 3",
   "language": "python",
   "name": "python3"
  },
  "language_info": {
   "codemirror_mode": {
    "name": "ipython",
    "version": 3
   },
   "file_extension": ".py",
   "mimetype": "text/x-python",
   "name": "python",
   "nbconvert_exporter": "python",
   "pygments_lexer": "ipython3",
   "version": "3.7.6"
  }
 },
 "nbformat": 4,
 "nbformat_minor": 4
}
