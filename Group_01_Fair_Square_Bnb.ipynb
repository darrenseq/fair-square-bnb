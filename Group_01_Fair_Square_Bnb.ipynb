{
 "cells": [
  {
   "cell_type": "markdown",
   "id": "6dd4e468-6d53-437f-8cfd-d6ea484a21a8",
   "metadata": {},
   "source": [
    "# Fair & Square Bnb"
   ]
  },
  {
   "cell_type": "markdown",
   "id": "70104305-9166-4e78-89f7-71d8c6f51fcb",
   "metadata": {},
   "source": [
    "## Project Overview\n"
   ]
  },
  {
   "cell_type": "markdown",
   "id": "268e4734-2c12-4001-89a6-1fbf2dd11c79",
   "metadata": {},
   "source": [
    "## Milestones and Progress"
   ]
  },
  {
   "cell_type": "markdown",
   "id": "a07b7d9d-a478-467e-a496-71e483194c2d",
   "metadata": {},
   "source": [
    "## Data Acquisition and Cleaning Code"
   ]
  },
  {
   "cell_type": "code",
   "execution_count": null,
   "id": "6dc4ede6-9a8f-4ec4-a78d-8f9daf08f641",
   "metadata": {},
   "outputs": [],
   "source": []
  }
 ],
 "metadata": {
  "kernelspec": {
   "display_name": "Python 3",
   "language": "python",
   "name": "python3"
  },
  "language_info": {
   "codemirror_mode": {
    "name": "ipython",
    "version": 3
   },
   "file_extension": ".py",
   "mimetype": "text/x-python",
   "name": "python",
   "nbconvert_exporter": "python",
   "pygments_lexer": "ipython3",
   "version": "3.8.8"
  }
 },
 "nbformat": 4,
 "nbformat_minor": 5
}
