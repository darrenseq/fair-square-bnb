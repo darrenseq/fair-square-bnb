{
 "cells": [
  {
   "cell_type": "markdown",
   "id": "6dd4e468-6d53-437f-8cfd-d6ea484a21a8",
   "metadata": {},
   "source": [
    "# Fair & Square Bnb"
   ]
  },
  {
   "cell_type": "code",
   "execution_count": null,
   "id": "afdb0685-edf9-4ce5-a0ee-4dc705047a3f",
   "metadata": {},
   "outputs": [],
   "source": []
  },
  {
   "cell_type": "code",
   "execution_count": 1,
   "id": "5be2b8fc-bd53-43a8-bdb8-d3a3783191e3",
   "metadata": {},
   "outputs": [],
   "source": [
    "# hello"
   ]
  }
 ],
 "metadata": {
  "kernelspec": {
   "display_name": "Python 3",
   "language": "python",
   "name": "python3"
  },
  "language_info": {
   "codemirror_mode": {
    "name": "ipython",
    "version": 3
   },
   "file_extension": ".py",
   "mimetype": "text/x-python",
   "name": "python",
   "nbconvert_exporter": "python",
   "pygments_lexer": "ipython3",
   "version": "3.8.8"
  }
 },
 "nbformat": 4,
 "nbformat_minor": 5
}
